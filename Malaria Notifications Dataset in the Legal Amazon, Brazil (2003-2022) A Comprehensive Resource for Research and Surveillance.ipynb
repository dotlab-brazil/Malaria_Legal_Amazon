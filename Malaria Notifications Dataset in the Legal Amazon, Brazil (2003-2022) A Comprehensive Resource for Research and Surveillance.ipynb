{
  "cells": [
    {
      "attachments": {},
      "cell_type": "markdown",
      "metadata": {
        "id": "k4RE8yp9Sdio"
      },
      "source": [
        "# Malaria Notifications Dataset in the Legal Amazon, Brazil (2003-2022): A Comprehensive Resource for Research and Surveillance\n",
        "\n",
        "This dataset provides information on notifications of confirmed cases of Malaria. The data used in this study is derived from compulsory notifications stored in the Malaria Epidemiological Surveillance Information System (SIVEP-Malaria), covering the period from 2003 to 2022. By making this dataset available, it is expected that researchers will be better equipped to develop effective strategies to mitigate and eradicate malaria in the region.\n",
        "\n",
        "The data set resulting from this project can be found [at this link](https://data.mendeley.com/datasets/9n6b97fsbd/1)."
      ]
    },
    {
      "attachments": {},
      "cell_type": "markdown",
      "metadata": {
        "id": "RWgDEMAkY5x8"
      },
      "source": [
        "## Imports and data uploads\n",
        "\n",
        "Libraries needed for code execution."
      ]
    },
    {
      "cell_type": "code",
      "execution_count": null,
      "metadata": {
        "id": "EZmxzzepSaqs"
      },
      "outputs": [],
      "source": [
        "# Imports\n",
        "from collections import Counter\n",
        "import glob\n",
        "import dask.dataframe as dd\n",
        "import pandas as pd\n",
        "\n",
        "files = glob.glob('path_to_data_in_your_computer/dataset/NOTI*.csv')\n",
        "\n",
        "# Path where the original data set is located\n",
        "path_data = \"path_to_data_in_your_computer\"\n",
        "\n",
        "path_save = \"path_to_save_the_data_in_your_computer\"\n",
        "\n"
      ]
    },
    {
      "attachments": {},
      "cell_type": "markdown",
      "metadata": {
        "id": "OqwxXKl9alp8"
      },
      "source": [
        "## Pre processing"
      ]
    },
    {
      "attachments": {},
      "cell_type": "markdown",
      "metadata": {
        "id": "5usk4WuOateL"
      },
      "source": [
        "### Dataset Integration\n",
        "\n",
        "The first step involved consolidating the datasets from each year into a single datase."
      ]
    },
    {
      "cell_type": "code",
      "execution_count": null,
      "metadata": {
        "id": "VA10JEaEbLQi"
      },
      "outputs": [],
      "source": [
        "df = pd.concat((pd.read_csv(f, on_bad_lines='skip', sep=';') for f in files), ignore_index=True)\n",
        "df.shape\n",
        "\n"
      ]
    },
    {
      "attachments": {},
      "cell_type": "markdown",
      "metadata": {
        "id": "0NSL8M4ebOsP"
      },
      "source": [
        "### Discarding negative malaria cases\n",
        "\n",
        "Attributes that were over 60% of notifications null were removed."
      ]
    },
    {
      "cell_type": "code",
      "execution_count": null,
      "metadata": {
        "id": "uam7rPvKbtVF"
      },
      "outputs": [],
      "source": [
        "df_1 = df.loc[df['RES_EXAM']>1]\n"
      ]
    },
    {
      "attachments": {},
      "cell_type": "markdown",
      "metadata": {
        "id": "XyX32_chb3gd"
      },
      "source": [
        "### Feature Selection\n",
        "\n",
        "Removed attributes that would not be useful for the final result. "
      ]
    },
    {
      "cell_type": "code",
      "execution_count": null,
      "metadata": {
        "id": "gB3RUbBiiyO0"
      },
      "outputs": [],
      "source": [
        "dataset = df_1[['COD_NOTI', 'DT_NOTIF', 'MUN_NOTI', 'RES_EXAM']]"
      ]
    },
    {
      "attachments": {},
      "cell_type": "markdown",
      "metadata": {
        "id": "MHjHN2unjFL7"
      },
      "source": [
        "### Data Transformation\n",
        "\n",
        "After this filtering process, the NOTIFICATION DATE variable, initially in numeric format, was coded into a DateTime variable. Another important step in transforming the data was renaming the attributes."
      ]
    },
    {
      "cell_type": "code",
      "execution_count": null,
      "metadata": {
        "id": "66W6LpgIjETs"
      },
      "outputs": [],
      "source": [
        "# Rename Columns.\n",
        "dataset.rename(columns={'DT_NOTIF': 'Date'}, inplace=True)\n",
        "dataset.rename(columns={'MUN_NOTI': 'Municipality'}, inplace=True)\n",
        "dataset.rename(columns={'RES_EXAM': 'Types of Malaria'}, inplace=True)\n",
        "dataset.rename(columns={'RES_EXAM': 'Test results'}, inplace=True)\n",
        "\n",
        "\n",
        "# Transformation in DateTime\n",
        "dataset['Date'] = pd.to_datetime(df['Date'], dayfirst=True)\n",
        "dataset.set_index('Date', inplace=True)\n"
      ]
    },
    {
      "attachments": {},
      "cell_type": "markdown",
      "metadata": {
        "id": "pEbxyW1Kmckm"
      },
      "source": [
        "## Data set saving"
      ]
    },
    {
      "cell_type": "code",
      "execution_count": null,
      "metadata": {
        "id": "wpnIlyQwmkEN"
      },
      "outputs": [],
      "source": [
        "dataset.to_csv(path_save, sep=\",\", index = False)"
      ]
    }
  ],
  "metadata": {
    "colab": {
      "authorship_tag": "ABX9TyNwylHyOqXa7RvNAFTDgnXG",
      "name": "arbovirus-dataset-brazil.ipynb",
      "provenance": []
    },
    "kernelspec": {
      "display_name": "Python 3",
      "name": "python3"
    },
    "language_info": {
      "name": "python"
    }
  },
  "nbformat": 4,
  "nbformat_minor": 0
}
